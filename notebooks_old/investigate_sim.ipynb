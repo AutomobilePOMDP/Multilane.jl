{
 "cells": [
  {
   "cell_type": "code",
   "execution_count": 1,
   "metadata": {
    "collapsed": false
   },
   "outputs": [
    {
     "data": {
      "text/html": [
       "<script charset=\"utf-8\">(function ($, undefined) {\n",
       "\n",
       "    function createElem(tag, attr, content) {\n",
       "\t// TODO: remove jQuery dependency\n",
       "\tvar el = $(\"<\" + tag + \"/>\").attr(attr);\n",
       "\tif (content) {\n",
       "\t    el.append(content);\n",
       "\t}\n",
       "\treturn el[0];\n",
       "    }\n",
       "\n",
       "    // A widget must expose an id field which identifies it to the backend,\n",
       "    // an elem attribute which is will be added to the DOM, and\n",
       "    // a getState() method which returns the value to be sent to the backend\n",
       "    // a sendUpdate() method which sends its current value to the backend\n",
       "    var Widget = {\n",
       "\tid: undefined,\n",
       "\telem: undefined,\n",
       "\tlabel: undefined,\n",
       "\tgetState: function () {\n",
       "\t    return this.elem.value;\n",
       "\t},\n",
       "\tsendUpdate: undefined\n",
       "    };\n",
       "\n",
       "    var Slider = function (typ, id, init) {\n",
       "\tvar attr = { type:  \"range\",\n",
       "\t\t     value: init.value,\n",
       "\t\t     min:   init.min,\n",
       "\t\t     max:   init.max,\n",
       "\t\t     step:  init.step },\n",
       "\t    elem = createElem(\"input\", attr),\n",
       "\t    self = this;\n",
       "\n",
       "\telem.onchange = function () {\n",
       "\t    self.sendUpdate();\n",
       "\t}\n",
       "\n",
       "\tthis.id = id;\n",
       "\tthis.elem = elem;\n",
       "\tthis.label = init.label;\n",
       "\n",
       "\tInputWidgets.commInitializer(this); // Initialize communication\n",
       "    }\n",
       "    Slider.prototype = Widget;\n",
       "\n",
       "    var Checkbox = function (typ, id, init) {\n",
       "\tvar attr = { type: \"checkbox\",\n",
       "\t\t     checked: init.value },\n",
       "\t    elem = createElem(\"input\", attr),\n",
       "\t    self = this;\n",
       "\n",
       "\tthis.getState = function () {\n",
       "\t    return elem.checked;\n",
       "\t}\n",
       "\telem.onchange = function () {\n",
       "\t    self.sendUpdate();\n",
       "\t}\n",
       "\n",
       "\tthis.id = id;\n",
       "\tthis.elem = elem;\n",
       "\tthis.label = init.label;\n",
       "\n",
       "\tInputWidgets.commInitializer(this);\n",
       "    }\n",
       "    Checkbox.prototype = Widget;\n",
       "\n",
       "    var Button = function (typ, id, init) {\n",
       "\tvar attr = { type:    \"button\",\n",
       "\t\t     value:   init.label },\n",
       "\t    elem = createElem(\"input\", attr),\n",
       "\t    self = this;\n",
       "\tthis.getState = function () {\n",
       "\t    return null;\n",
       "\t}\n",
       "\telem.onclick = function () {\n",
       "\t    self.sendUpdate();\n",
       "\t}\n",
       "\n",
       "\tthis.id = id;\n",
       "\tthis.elem = elem;\n",
       "\tthis.label = init.label;\n",
       "\n",
       "\tInputWidgets.commInitializer(this);\n",
       "    }\n",
       "    Button.prototype = Widget;\n",
       "\n",
       "    var Text = function (typ, id, init) {\n",
       "\tvar attr = { type:  \"text\",\n",
       "\t\t     placeholder: init.label,\n",
       "\t\t     value: init.value },\n",
       "\t    elem = createElem(\"input\", attr),\n",
       "\t    self = this;\n",
       "\tthis.getState = function () {\n",
       "\t    return elem.value;\n",
       "\t}\n",
       "\telem.onkeyup = function () {\n",
       "\t    self.sendUpdate();\n",
       "\t}\n",
       "\n",
       "\tthis.id = id;\n",
       "\tthis.elem = elem;\n",
       "\tthis.label = init.label;\n",
       "\n",
       "\tInputWidgets.commInitializer(this);\n",
       "    }\n",
       "    Text.prototype = Widget;\n",
       "\n",
       "    var Textarea = function (typ, id, init) {\n",
       "\tvar attr = { placeholder: init.label },\n",
       "\t    elem = createElem(\"textarea\", attr, init.value),\n",
       "\t    self = this;\n",
       "\tthis.getState = function () {\n",
       "\t    return elem.value;\n",
       "\t}\n",
       "\telem.onchange = function () {\n",
       "\t    self.sendUpdate();\n",
       "\t}\n",
       "\n",
       "\tthis.id = id;\n",
       "\tthis.elem = elem;\n",
       "\tthis.label = init.label;\n",
       "\n",
       "\tInputWidgets.commInitializer(this);\n",
       "    }\n",
       "    Textarea.prototype = Widget;\n",
       "\n",
       "    // RadioButtons\n",
       "    // Dropdown\n",
       "    // HTML\n",
       "    // Latex\n",
       "\n",
       "    var InputWidgets = {\n",
       "\tSlider: Slider,\n",
       "\tCheckbox: Checkbox,\n",
       "\tButton: Button,\n",
       "\tText: Text,\n",
       "\tTextarea: Textarea,\n",
       "\tdebug: false,\n",
       "\tlog: function () {\n",
       "\t    if (InputWidgets.debug) {\n",
       "\t\tconsole.log.apply(console, arguments);\n",
       "\t    }\n",
       "\t},\n",
       "\t// a central way to initalize communication\n",
       "\t// for widgets.\n",
       "\tcommInitializer: function (widget) {\n",
       "\t    widget.sendUpdate = function () {};\n",
       "\t}\n",
       "    };\n",
       "\n",
       "    window.InputWidgets = InputWidgets;\n",
       "\n",
       "})(jQuery, undefined);\n",
       "</script>"
      ]
     },
     "metadata": {},
     "output_type": "display_data"
    },
    {
     "data": {
      "text/html": [
       "<div id=\"interact-js-shim\">\n",
       "    <script charset=\"utf-8\">\n",
       "(function (IPython, $, _, MathJax, Widgets) {\n",
       "    $.event.special.destroyed = {\n",
       "\tremove: function(o) {\n",
       "\t    if (o.handler) {\n",
       "\t\to.handler.apply(this, arguments)\n",
       "\t    }\n",
       "\t}\n",
       "    }\n",
       "\n",
       "    var OutputArea = IPython.version >= \"4.0.0\" ? require(\"notebook/js/outputarea\").OutputArea : IPython.OutputArea;\n",
       "\n",
       "    var redrawValue = function (container, type, val) {\n",
       "\tvar selector = $(\"<div/>\");\n",
       "\tvar oa = new OutputArea(_.extend(selector, {\n",
       "\t    selector: selector,\n",
       "\t    prompt_area: true,\n",
       "\t    events: IPython.events,\n",
       "\t    keyboard_manager: IPython.keyboard_manager\n",
       "\t})); // Hack to work with IPython 2.1.0\n",
       "\n",
       "\tswitch (type) {\n",
       "\tcase \"image/png\":\n",
       "            var _src = 'data:' + type + ';base64,' + val;\n",
       "\t    $(container).find(\"img\").attr('src', _src);\n",
       "\t    break;\n",
       "\tdefault:\n",
       "\t    var toinsert = OutputArea.append_map[type].apply(\n",
       "\t\toa, [val, {}, selector]\n",
       "\t    );\n",
       "\t    $(container).empty().append(toinsert.contents());\n",
       "\t    selector.remove();\n",
       "\t}\n",
       "\tif (type === \"text/latex\" && MathJax) {\n",
       "\t    MathJax.Hub.Queue([\"Typeset\", MathJax.Hub, toinsert.0)];\n",
       "\t}\n",
       "    }\n",
       "\n",
       "\n",
       "    $(document).ready(function() {\n",
       "\tWidgets.debug = false; // log messages etc in console.\n",
       "\tfunction initComm(evt, data) {\n",
       "\t    var comm_manager = data.kernel.comm_manager;\n",
       "        //_.extend(comm_manager.targets, require(\"widgets/js/widget\"))\n",
       "\t    comm_manager.register_target(\"Signal\", function (comm) {\n",
       "            comm.on_msg(function (msg) {\n",
       "                //Widgets.log(\"message received\", msg);\n",
       "                var val = msg.content.data.value;\n",
       "                $(\".signal-\" + comm.comm_id).each(function() {\n",
       "                var type = $(this).data(\"type\");\n",
       "                if (val[type]) {\n",
       "                    redrawValue(this, type, val[type], type);\n",
       "                }\n",
       "                });\n",
       "                delete val;\n",
       "                delete msg.content.data.value;\n",
       "            });\n",
       "\t    });\n",
       "\n",
       "\t    // coordingate with Comm and redraw Signals\n",
       "\t    // XXX: Test using Reactive here to improve performance\n",
       "\t    $([IPython.events]).on(\n",
       "\t\t'output_appended.OutputArea', function (event, type, value, md, toinsert) {\n",
       "\t\t    if (md && md.reactive) {\n",
       "                // console.log(md.comm_id);\n",
       "                toinsert.addClass(\"signal-\" + md.comm_id);\n",
       "                toinsert.data(\"type\", type);\n",
       "                // Signal back indicating the mimetype required\n",
       "                var comm_manager = IPython.notebook.kernel.comm_manager;\n",
       "                var comm = comm_manager.comms[md.comm_id];\n",
       "                comm.then(function (c) {\n",
       "                    c.send({action: \"subscribe_mime\",\n",
       "                       mime: type});\n",
       "                    toinsert.bind(\"destroyed\", function() {\n",
       "                        c.send({action: \"unsubscribe_mime\",\n",
       "                               mime: type});\n",
       "                    });\n",
       "                })\n",
       "\t\t    }\n",
       "\t    });\n",
       "\t}\n",
       "\n",
       "\ttry {\n",
       "\t    // try to initialize right away. otherwise, wait on the status_started event.\n",
       "\t    initComm(undefined, IPython.notebook);\n",
       "\t} catch (e) {\n",
       "\t    $([IPython.events]).on('kernel_created.Kernel kernel_created.Session', initComm);\n",
       "\t}\n",
       "    });\n",
       "})(IPython, jQuery, _, MathJax, InputWidgets);\n",
       "</script>\n",
       "    <script>\n",
       "        window.interactLoadedFlag = true\n",
       "       $(\"#interact-js-shim\").bind(\"destroyed\", function () {\n",
       "           if (window.interactLoadedFlag) {\n",
       "               console.warn(\"JavaScript required by Interact will be removed if you remove this cell or run using Interact more than once.\")\n",
       "           }\n",
       "       })\n",
       "       $([IPython.events]).on(\"kernel_starting.Kernel kernel_restarting.Kernel\", function () { window.interactLoadedFlag = false })\n",
       "   </script>\n",
       "</div>"
      ]
     },
     "metadata": {},
     "output_type": "display_data"
    }
   ],
   "source": [
    "using JLD\n",
    "using Multilane\n",
    "using POMDPs\n",
    "using MCTS\n",
    "using DataFrames\n",
    "using DataFramesMeta"
   ]
  },
  {
   "cell_type": "code",
   "execution_count": 2,
   "metadata": {
    "collapsed": false,
    "scrolled": true
   },
   "outputs": [
    {
     "data": {
      "text/html": [
       "<table class=\"data-frame\"><tr><th></th><th>id</th><th>uuid</th><th>solver_key</th><th>problem_key</th><th>initial_key</th><th>rng_seed</th><th>time</th><th>reward</th><th>brake_thresh</th><th>lambda</th><th>nb_brakes</th><th>steps_to_lane</th><th>time_to_lane</th><th>steps_in_lane</th><th>steps</th><th>crash</th><th>vel_sigma</th></tr><tr><th>1</th><td>30</td><td>75896167318929652242737391457942643866</td><td>random</td><td>eUvEUsEg</td><td>wbNTilaR</td><td>30</td><td>1.470100137713681e9</td><td>-1490.0</td><td>2.5</td><td>10.0</td><td>15</td><td>184</td><td>138.0</td><td>1</td><td>184</td><td>false</td><td>0.0</td></tr><tr><th>2</th><td>58</td><td>166519622417990557558031317867226002442</td><td>random</td><td>eUvEUsEg</td><td>ZDx1juRZ</td><td>58</td><td>1.470100137713681e9</td><td>-1390.0</td><td>2.5</td><td>10.0</td><td>14</td><td>184</td><td>138.0</td><td>1</td><td>184</td><td>false</td><td>0.0</td></tr><tr><th>3</th><td>80</td><td>226898399823970017215985797242408123763</td><td>random</td><td>eUvEUsEg</td><td>Zf7ocg5z</td><td>80</td><td>1.470100137713681e9</td><td>-1790.0</td><td>2.5</td><td>10.0</td><td>18</td><td>184</td><td>138.0</td><td>1</td><td>184</td><td>false</td><td>0.0</td></tr><tr><th>4</th><td>105</td><td>221140434010781105279085408653248446710</td><td>random</td><td>eUvEUsEg</td><td>jkirtfFl</td><td>105</td><td>1.470100137713681e9</td><td>-90.0</td><td>2.5</td><td>10.0</td><td>1</td><td>184</td><td>138.0</td><td>1</td><td>184</td><td>false</td><td>0.0</td></tr><tr><th>5</th><td>109</td><td>184962696308132062911375789615519550408</td><td>random</td><td>eUvEUsEg</td><td>vz4l0LxC</td><td>109</td><td>1.470100137713681e9</td><td>-190.0</td><td>2.5</td><td>10.0</td><td>2</td><td>184</td><td>138.0</td><td>1</td><td>184</td><td>false</td><td>0.0</td></tr><tr><th>6</th><td>166</td><td>196702660038312521371069159508607690139</td><td>random</td><td>eUvEUsEg</td><td>Foeuf7MQ</td><td>166</td><td>1.470100137713681e9</td><td>-390.0</td><td>2.5</td><td>10.0</td><td>4</td><td>184</td><td>138.0</td><td>1</td><td>184</td><td>false</td><td>0.0</td></tr><tr><th>7</th><td>167</td><td>200707299143638027520374486980016957639</td><td>random</td><td>eUvEUsEg</td><td>h2YMs3Zg</td><td>167</td><td>1.470100137713681e9</td><td>-790.0</td><td>2.5</td><td>10.0</td><td>8</td><td>184</td><td>138.0</td><td>1</td><td>184</td><td>false</td><td>0.0</td></tr><tr><th>8</th><td>195</td><td>19834215454004599175571913048724810998</td><td>random</td><td>eUvEUsEg</td><td>AiKD9RA0</td><td>195</td><td>1.470100137713681e9</td><td>-90.0</td><td>2.5</td><td>10.0</td><td>1</td><td>184</td><td>138.0</td><td>1</td><td>184</td><td>false</td><td>0.0</td></tr><tr><th>9</th><td>203</td><td>219109791300834461530588226739209201613</td><td>random</td><td>eUvEUsEg</td><td>TIHfwu3z</td><td>203</td><td>1.470100137713681e9</td><td>-590.0</td><td>2.5</td><td>10.0</td><td>6</td><td>184</td><td>138.0</td><td>1</td><td>184</td><td>false</td><td>0.0</td></tr><tr><th>10</th><td>223</td><td>146600244616735854469414735306745156858</td><td>random</td><td>eUvEUsEg</td><td>Q4OlmUUy</td><td>223</td><td>1.470100137713681e9</td><td>-1990.0</td><td>2.5</td><td>10.0</td><td>20</td><td>184</td><td>138.0</td><td>1</td><td>184</td><td>false</td><td>0.0</td></tr><tr><th>11</th><td>243</td><td>259911956885574078904121599742819235436</td><td>random</td><td>eUvEUsEg</td><td>guremcQu</td><td>243</td><td>1.470100137713681e9</td><td>-1490.0</td><td>2.5</td><td>10.0</td><td>15</td><td>184</td><td>138.0</td><td>1</td><td>184</td><td>false</td><td>0.0</td></tr><tr><th>12</th><td>257</td><td>204652816303029622031225840607874397188</td><td>random</td><td>eUvEUsEg</td><td>MsXcHbRP</td><td>257</td><td>1.470100137713681e9</td><td>-1290.0</td><td>2.5</td><td>10.0</td><td>13</td><td>184</td><td>138.0</td><td>1</td><td>184</td><td>false</td><td>0.0</td></tr><tr><th>13</th><td>291</td><td>49590317384996312402729308789072391277</td><td>random</td><td>eUvEUsEg</td><td>ZGgxCJkP</td><td>291</td><td>1.470100137713681e9</td><td>-390.0</td><td>2.5</td><td>10.0</td><td>4</td><td>184</td><td>138.0</td><td>1</td><td>184</td><td>false</td><td>0.0</td></tr><tr><th>14</th><td>293</td><td>311837240295319777702142826047395653046</td><td>random</td><td>eUvEUsEg</td><td>DN9qH0fu</td><td>293</td><td>1.470100137713681e9</td><td>-490.0</td><td>2.5</td><td>10.0</td><td>5</td><td>184</td><td>138.0</td><td>1</td><td>184</td><td>false</td><td>0.0</td></tr><tr><th>15</th><td>304</td><td>31102540549188722569928487767901242627</td><td>random</td><td>eUvEUsEg</td><td>sT8gwHGC</td><td>304</td><td>1.470100137713681e9</td><td>-1290.0</td><td>2.5</td><td>10.0</td><td>13</td><td>184</td><td>138.0</td><td>1</td><td>184</td><td>false</td><td>0.0</td></tr><tr><th>16</th><td>309</td><td>18724730257160532717129294644046106971</td><td>random</td><td>eUvEUsEg</td><td>54cVFbPQ</td><td>309</td><td>1.470100137713681e9</td><td>-1490.0</td><td>2.5</td><td>10.0</td><td>15</td><td>184</td><td>138.0</td><td>1</td><td>184</td><td>false</td><td>0.0</td></tr><tr><th>17</th><td>325</td><td>64820873913141917566408742641915049832</td><td>random</td><td>eUvEUsEg</td><td>kB5BfENQ</td><td>325</td><td>1.470100137713681e9</td><td>-890.0</td><td>2.5</td><td>10.0</td><td>9</td><td>184</td><td>138.0</td><td>1</td><td>184</td><td>false</td><td>0.0</td></tr><tr><th>18</th><td>333</td><td>155921938868670082900478602297959676655</td><td>random</td><td>eUvEUsEg</td><td>iE4YyOvj</td><td>333</td><td>1.470100137713681e9</td><td>-1790.0</td><td>2.5</td><td>10.0</td><td>18</td><td>184</td><td>138.0</td><td>1</td><td>184</td><td>false</td><td>0.0</td></tr><tr><th>19</th><td>348</td><td>193455387872999526692590541734689735346</td><td>random</td><td>eUvEUsEg</td><td>YbRQeWAW</td><td>348</td><td>1.470100137713681e9</td><td>-2090.0</td><td>2.5</td><td>10.0</td><td>21</td><td>184</td><td>138.0</td><td>1</td><td>184</td><td>false</td><td>0.0</td></tr><tr><th>20</th><td>352</td><td>54973968898950910438886458034563429571</td><td>random</td><td>eUvEUsEg</td><td>zSFP6cCy</td><td>352</td><td>1.470100137713681e9</td><td>-690.0</td><td>2.5</td><td>10.0</td><td>7</td><td>184</td><td>138.0</td><td>1</td><td>184</td><td>false</td><td>0.0</td></tr><tr><th>21</th><td>354</td><td>252356913755279029943861645253394992050</td><td>random</td><td>eUvEUsEg</td><td>9OpCKhIP</td><td>354</td><td>1.470100137713681e9</td><td>-990.0</td><td>2.5</td><td>10.0</td><td>10</td><td>184</td><td>138.0</td><td>1</td><td>184</td><td>false</td><td>0.0</td></tr><tr><th>22</th><td>380</td><td>109011789033323902008186278183480631974</td><td>random</td><td>eUvEUsEg</td><td>iauMJExQ</td><td>380</td><td>1.470100137713681e9</td><td>-2790.0</td><td>2.5</td><td>10.0</td><td>28</td><td>184</td><td>138.0</td><td>1</td><td>184</td><td>false</td><td>0.0</td></tr><tr><th>23</th><td>486</td><td>22727790771040458881613782609609860204</td><td>random</td><td>eUvEUsEg</td><td>B1z3fryM</td><td>486</td><td>1.470100137713681e9</td><td>-590.0</td><td>2.5</td><td>10.0</td><td>6</td><td>184</td><td>138.0</td><td>1</td><td>184</td><td>false</td><td>0.0</td></tr><tr><th>24</th><td>555</td><td>169211719605242045297656180887155550806</td><td>random</td><td>eUvEUsEg</td><td>SCUIO7wu</td><td>555</td><td>1.470100137713681e9</td><td>-890.0</td><td>2.5</td><td>10.0</td><td>9</td><td>184</td><td>138.0</td><td>1</td><td>184</td><td>false</td><td>0.0</td></tr><tr><th>25</th><td>558</td><td>25610236258164498284162623050024684893</td><td>random</td><td>eUvEUsEg</td><td>TRxcSkvz</td><td>558</td><td>1.470100137713681e9</td><td>-3490.0</td><td>2.5</td><td>10.0</td><td>35</td><td>184</td><td>138.0</td><td>1</td><td>184</td><td>false</td><td>0.0</td></tr><tr><th>26</th><td>692</td><td>89740741269351887678407907182143873475</td><td>random</td><td>eUvEUsEg</td><td>6NDtHZvb</td><td>692</td><td>1.470100137713681e9</td><td>-990.0</td><td>2.5</td><td>10.0</td><td>10</td><td>184</td><td>138.0</td><td>1</td><td>184</td><td>false</td><td>0.0</td></tr><tr><th>27</th><td>745</td><td>122356361924670980154095779074166607731</td><td>random</td><td>eUvEUsEg</td><td>kwE2aiIr</td><td>745</td><td>1.470100137713681e9</td><td>-1590.0</td><td>2.5</td><td>10.0</td><td>16</td><td>184</td><td>138.0</td><td>1</td><td>184</td><td>false</td><td>0.0</td></tr><tr><th>28</th><td>749</td><td>304474495169911519109760835765424357134</td><td>random</td><td>eUvEUsEg</td><td>z4zAU9dP</td><td>749</td><td>1.470100137713681e9</td><td>-1090.0</td><td>2.5</td><td>10.0</td><td>11</td><td>184</td><td>138.0</td><td>1</td><td>184</td><td>false</td><td>0.0</td></tr><tr><th>29</th><td>804</td><td>178510860268715803506266414291278643445</td><td>random</td><td>eUvEUsEg</td><td>nnor3zdg</td><td>804</td><td>1.470100137713681e9</td><td>-1290.0</td><td>2.5</td><td>10.0</td><td>13</td><td>184</td><td>138.0</td><td>1</td><td>184</td><td>false</td><td>0.0</td></tr><tr><th>30</th><td>926</td><td>146681323288386588170028853292035582301</td><td>random</td><td>eUvEUsEg</td><td>MxCl0Ch5</td><td>926</td><td>1.470100137713681e9</td><td>-890.0</td><td>2.5</td><td>10.0</td><td>9</td><td>184</td><td>138.0</td><td>1</td><td>184</td><td>false</td><td>0.0</td></tr><tr><th>&vellip;</th><td>&vellip;</td><td>&vellip;</td><td>&vellip;</td><td>&vellip;</td><td>&vellip;</td><td>&vellip;</td><td>&vellip;</td><td>&vellip;</td><td>&vellip;</td><td>&vellip;</td><td>&vellip;</td><td>&vellip;</td><td>&vellip;</td><td>&vellip;</td><td>&vellip;</td><td>&vellip;</td><td>&vellip;</td></tr></table>"
      ],
      "text/plain": [
       "141×17 DataFrames.DataFrame\n",
       "│ Row │ id   │ uuid                               │ solver_key │ problem_key │\n",
       "├─────┼──────┼────────────────────────────────────┼────────────┼─────────────┤\n",
       "│ 1   │ 30   │ 0x391911f410734f53b6f16de4341c249a │ \"random\"   │ \"eUvEUsEg\"  │\n",
       "│ 2   │ 58   │ 0x7d4683413e544f0ea78cbd837338f40a │ \"random\"   │ \"eUvEUsEg\"  │\n",
       "│ 3   │ 80   │ 0xaab30ad140dd4e3b9bef91e375e7bd73 │ \"random\"   │ \"eUvEUsEg\"  │\n",
       "│ 4   │ 105  │ 0xa65e192f46804f2e891c7769303a40f6 │ \"random\"   │ \"eUvEUsEg\"  │\n",
       "│ 5   │ 109  │ 0x8b268500ab044f6cbf0e89a6caeecbc8 │ \"random\"   │ \"eUvEUsEg\"  │\n",
       "│ 6   │ 166  │ 0x93fb8de750b54f41bfa0ba8238f2e59b │ \"random\"   │ \"eUvEUsEg\"  │\n",
       "│ 7   │ 167  │ 0x96fed1dafd9a453e9069ceaaaceb68c7 │ \"random\"   │ \"eUvEUsEg\"  │\n",
       "│ 8   │ 195  │ 0x0eebee5284b040939b2c2ae849632cf6 │ \"random\"   │ \"eUvEUsEg\"  │\n",
       "│ 9   │ 203  │ 0xa4d702c4ef0e4deebeefd4a0e31b67cd │ \"random\"   │ \"eUvEUsEg\"  │\n",
       "│ 10  │ 223  │ 0x6e4a2e1ac89f430fb36da36b3d4f94fa │ \"random\"   │ \"eUvEUsEg\"  │\n",
       "│ 11  │ 243  │ 0xc38938d962614926b6604aed5764f66c │ \"random\"   │ \"eUvEUsEg\"  │\n",
       "⋮\n",
       "│ 130 │ 3739 │ 0x50701c6f0552409c86ebb27b8c4bc597 │ \"random\"   │ \"V5mT80NF\"  │\n",
       "│ 131 │ 3742 │ 0x1d257540ac5d4c8b8576897032cd262e │ \"random\"   │ \"V5mT80NF\"  │\n",
       "│ 132 │ 3759 │ 0xe9ee20ccd5734c7ca59c107040ae9e48 │ \"random\"   │ \"V5mT80NF\"  │\n",
       "│ 133 │ 3789 │ 0x83eb71f83f504792bf519085fe4b6889 │ \"random\"   │ \"V5mT80NF\"  │\n",
       "│ 134 │ 3793 │ 0x0e94cb29052d4eeea5983cfea473e9f9 │ \"random\"   │ \"V5mT80NF\"  │\n",
       "│ 135 │ 3822 │ 0xfef47e796e2f4bf083ed88cb6b049a47 │ \"random\"   │ \"V5mT80NF\"  │\n",
       "│ 136 │ 3833 │ 0x94c9675eb55642e78b38622935a77dda │ \"random\"   │ \"V5mT80NF\"  │\n",
       "│ 137 │ 3902 │ 0x85ab3e3082c24a8ab9346a2ecf9d8ec9 │ \"random\"   │ \"V5mT80NF\"  │\n",
       "│ 138 │ 3936 │ 0x7831af3dec3d4aecbb0776a879ecfcb7 │ \"random\"   │ \"V5mT80NF\"  │\n",
       "│ 139 │ 3948 │ 0x9dc17e682cb94e7488782209691abc03 │ \"random\"   │ \"V5mT80NF\"  │\n",
       "│ 140 │ 3950 │ 0x73ab50c938524c79ac6a46fe468429f9 │ \"random\"   │ \"V5mT80NF\"  │\n",
       "│ 141 │ 3960 │ 0x1df5666a3f074f3ebe7f13188461b607 │ \"random\"   │ \"V5mT80NF\"  │\n",
       "\n",
       "│ Row │ initial_key │ rng_seed │ time     │ reward  │ brake_thresh │ lambda │\n",
       "├─────┼─────────────┼──────────┼──────────┼─────────┼──────────────┼────────┤\n",
       "│ 1   │ \"wbNTilaR\"  │ 30       │ 1.4701e9 │ -1490.0 │ 2.5          │ 10.0   │\n",
       "│ 2   │ \"ZDx1juRZ\"  │ 58       │ 1.4701e9 │ -1390.0 │ 2.5          │ 10.0   │\n",
       "│ 3   │ \"Zf7ocg5z\"  │ 80       │ 1.4701e9 │ -1790.0 │ 2.5          │ 10.0   │\n",
       "│ 4   │ \"jkirtfFl\"  │ 105      │ 1.4701e9 │ -90.0   │ 2.5          │ 10.0   │\n",
       "│ 5   │ \"vz4l0LxC\"  │ 109      │ 1.4701e9 │ -190.0  │ 2.5          │ 10.0   │\n",
       "│ 6   │ \"Foeuf7MQ\"  │ 166      │ 1.4701e9 │ -390.0  │ 2.5          │ 10.0   │\n",
       "│ 7   │ \"h2YMs3Zg\"  │ 167      │ 1.4701e9 │ -790.0  │ 2.5          │ 10.0   │\n",
       "│ 8   │ \"AiKD9RA0\"  │ 195      │ 1.4701e9 │ -90.0   │ 2.5          │ 10.0   │\n",
       "│ 9   │ \"TIHfwu3z\"  │ 203      │ 1.4701e9 │ -590.0  │ 2.5          │ 10.0   │\n",
       "│ 10  │ \"Q4OlmUUy\"  │ 223      │ 1.4701e9 │ -1990.0 │ 2.5          │ 10.0   │\n",
       "│ 11  │ \"guremcQu\"  │ 243      │ 1.4701e9 │ -1490.0 │ 2.5          │ 10.0   │\n",
       "⋮\n",
       "│ 130 │ \"DpuxQShR\"  │ 1739     │ 1.4701e9 │ -1990.0 │ 2.5          │ 10.0   │\n",
       "│ 131 │ \"snywMjiL\"  │ 1742     │ 1.4701e9 │ -1590.0 │ 2.5          │ 10.0   │\n",
       "│ 132 │ \"ER1ShUV4\"  │ 1759     │ 1.4701e9 │ -1790.0 │ 2.5          │ 10.0   │\n",
       "│ 133 │ \"qH8dCTYu\"  │ 1789     │ 1.4701e9 │ -1790.0 │ 2.5          │ 10.0   │\n",
       "│ 134 │ \"tVmPU2SD\"  │ 1793     │ 1.4701e9 │ -1090.0 │ 2.5          │ 10.0   │\n",
       "│ 135 │ \"8HyyQtcz\"  │ 1822     │ 1.4701e9 │ -990.0  │ 2.5          │ 10.0   │\n",
       "│ 136 │ \"Qh9zXd0Q\"  │ 1833     │ 1.4701e9 │ -890.0  │ 2.5          │ 10.0   │\n",
       "│ 137 │ \"oRF71Rsn\"  │ 1902     │ 1.4701e9 │ -2090.0 │ 2.5          │ 10.0   │\n",
       "│ 138 │ \"F8xoTOjR\"  │ 1936     │ 1.4701e9 │ -890.0  │ 2.5          │ 10.0   │\n",
       "│ 139 │ \"FTkEST9S\"  │ 1948     │ 1.4701e9 │ -990.0  │ 2.5          │ 10.0   │\n",
       "│ 140 │ \"hcVb7KDO\"  │ 1950     │ 1.4701e9 │ -990.0  │ 2.5          │ 10.0   │\n",
       "│ 141 │ \"3DKU7l0P\"  │ 1960     │ 1.4701e9 │ -190.0  │ 2.5          │ 10.0   │\n",
       "\n",
       "│ Row │ nb_brakes │ steps_to_lane │ time_to_lane │ steps_in_lane │ steps │\n",
       "├─────┼───────────┼───────────────┼──────────────┼───────────────┼───────┤\n",
       "│ 1   │ 15        │ 184           │ 138.0        │ 1             │ 184   │\n",
       "│ 2   │ 14        │ 184           │ 138.0        │ 1             │ 184   │\n",
       "│ 3   │ 18        │ 184           │ 138.0        │ 1             │ 184   │\n",
       "│ 4   │ 1         │ 184           │ 138.0        │ 1             │ 184   │\n",
       "│ 5   │ 2         │ 184           │ 138.0        │ 1             │ 184   │\n",
       "│ 6   │ 4         │ 184           │ 138.0        │ 1             │ 184   │\n",
       "│ 7   │ 8         │ 184           │ 138.0        │ 1             │ 184   │\n",
       "│ 8   │ 1         │ 184           │ 138.0        │ 1             │ 184   │\n",
       "│ 9   │ 6         │ 184           │ 138.0        │ 1             │ 184   │\n",
       "│ 10  │ 20        │ 184           │ 138.0        │ 1             │ 184   │\n",
       "│ 11  │ 15        │ 184           │ 138.0        │ 1             │ 184   │\n",
       "⋮\n",
       "│ 130 │ 20        │ 184           │ 138.0        │ 1             │ 184   │\n",
       "│ 131 │ 16        │ 184           │ 138.0        │ 1             │ 184   │\n",
       "│ 132 │ 18        │ 184           │ 138.0        │ 1             │ 184   │\n",
       "│ 133 │ 18        │ 184           │ 138.0        │ 1             │ 184   │\n",
       "│ 134 │ 11        │ 184           │ 138.0        │ 1             │ 184   │\n",
       "│ 135 │ 10        │ 184           │ 138.0        │ 1             │ 184   │\n",
       "│ 136 │ 9         │ 184           │ 138.0        │ 1             │ 184   │\n",
       "│ 137 │ 21        │ 184           │ 138.0        │ 1             │ 184   │\n",
       "│ 138 │ 9         │ 184           │ 138.0        │ 1             │ 184   │\n",
       "│ 139 │ 10        │ 184           │ 138.0        │ 1             │ 184   │\n",
       "│ 140 │ 10        │ 184           │ 138.0        │ 1             │ 184   │\n",
       "│ 141 │ 2         │ 184           │ 138.0        │ 1             │ 184   │\n",
       "\n",
       "│ Row │ crash │ vel_sigma │\n",
       "├─────┼───────┼───────────┤\n",
       "│ 1   │ false │ 0.0       │\n",
       "│ 2   │ false │ 0.0       │\n",
       "│ 3   │ false │ 0.0       │\n",
       "│ 4   │ false │ 0.0       │\n",
       "│ 5   │ false │ 0.0       │\n",
       "│ 6   │ false │ 0.0       │\n",
       "│ 7   │ false │ 0.0       │\n",
       "│ 8   │ false │ 0.0       │\n",
       "│ 9   │ false │ 0.0       │\n",
       "│ 10  │ false │ 0.0       │\n",
       "│ 11  │ false │ 0.0       │\n",
       "⋮\n",
       "│ 130 │ false │ 0.5       │\n",
       "│ 131 │ false │ 0.5       │\n",
       "│ 132 │ false │ 0.5       │\n",
       "│ 133 │ false │ 0.5       │\n",
       "│ 134 │ false │ 0.5       │\n",
       "│ 135 │ false │ 0.5       │\n",
       "│ 136 │ false │ 0.5       │\n",
       "│ 137 │ false │ 0.5       │\n",
       "│ 138 │ false │ 0.5       │\n",
       "│ 139 │ false │ 0.5       │\n",
       "│ 140 │ false │ 0.5       │\n",
       "│ 141 │ false │ 0.5       │"
      ]
     },
     "execution_count": 2,
     "metadata": {},
     "output_type": "execute_result"
    }
   ],
   "source": [
    "results = load(\"../data/random_periods.jld\")\n",
    "@where(results[\"stats\"], :time_to_lane .== 138.0)"
   ]
  },
  {
   "cell_type": "code",
   "execution_count": 3,
   "metadata": {
    "collapsed": false
   },
   "outputs": [],
   "source": [
    "problem, sim, policy = rerun(results, 30);"
   ]
  },
  {
   "cell_type": "code",
   "execution_count": 4,
   "metadata": {
    "collapsed": false
   },
   "outputs": [
    {
     "data": {
      "text/html": [],
      "text/plain": [
       "Interact.Slider{Int64}(Signal{Int64}(92, nactions=0),\"i\",92,1:184,\"d\",true)"
      ]
     },
     "metadata": {},
     "output_type": "display_data"
    },
    {
     "name": "stderr",
     "output_type": "stream",
     "text": [
      "WARNING: This should be run in a Jupyter Notebook\n"
     ]
    },
    {
     "data": {
      "image/png": "[encoded data removed]",
      "text/plain": [
       "PyPlot.Figure(PyObject <matplotlib.figure.Figure object at 0x7f1596af2bd0>)"
      ]
     },
     "execution_count": 4,
     "metadata": {
      "comm_id": "d5f57f96-0086-450f-8015-3bec43e2aea8",
      "reactive": true
     },
     "output_type": "execute_result"
    }
   ],
   "source": [
    "display_sim(problem, sim)\n",
    "# filename = write_tmp_gif(problem, sim)\n",
    "# run(`gifview $filename`)"
   ]
  },
  {
   "cell_type": "code",
   "execution_count": 5,
   "metadata": {
    "collapsed": false
   },
   "outputs": [
    {
     "name": "stderr",
     "output_type": "stream",
     "text": [
      "WARNING: imported binding for step overwritten in module Main\n"
     ]
    },
    {
     "data": {
      "text/plain": [
       "1"
      ]
     },
     "execution_count": 5,
     "metadata": {},
     "output_type": "execute_result"
    }
   ],
   "source": [
    "step = 1"
   ]
  },
  {
   "cell_type": "code",
   "execution_count": 6,
   "metadata": {
    "collapsed": false,
    "scrolled": true
   },
   "outputs": [
    {
     "data": {
      "image/png": "[encoded data removed]",
      "text/plain": [
       "PyPlot.Figure(PyObject <matplotlib.figure.Figure object at 0x7f15918d3e90>)"
      ]
     },
     "metadata": {},
     "output_type": "display_data"
    }
   ],
   "source": [
    "visualize(problem, sim.state_hist[step], sim.action_hist[step], sim.state_hist[step+1]);"
   ]
  },
  {
   "cell_type": "code",
   "execution_count": null,
   "metadata": {
    "collapsed": true
   },
   "outputs": [],
   "source": []
  }
 ],
 "metadata": {
  "kernelspec": {
   "display_name": "Julia 0.4.5",
   "language": "julia",
   "name": "julia-0.4"
  },
  "language_info": {
   "file_extension": ".jl",
   "mimetype": "application/julia",
   "name": "julia",
   "version": "0.4.6"
  },
  "widgets": {
   "state": {
    "4d8047b4-7f21-4118-8d53-231a9917b344": {
     "views": [
      {
       "cell_index": 3
      }
     ]
    }
   },
   "version": "1.2.0"
  }
 },
 "nbformat": 4,
 "nbformat_minor": 0
}
