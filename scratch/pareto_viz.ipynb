{
 "cells": [
  {
   "cell_type": "code",
   "execution_count": 15,
   "metadata": {
    "collapsed": false
   },
   "outputs": [],
   "source": [
    "using JLD\n",
    "push!(LOAD_PATH,joinpath(\"..\",\"src\"))\n",
    "using Multilane"
   ]
  },
  {
   "cell_type": "code",
   "execution_count": 16,
   "metadata": {
    "collapsed": false
   },
   "outputs": [
    {
     "ename": "LoadError",
     "evalue": "LoadError: stored type Multilane.NoCrashStat does not match currently loaded type\nwhile loading In[16], in expression starting on line 1",
     "output_type": "error",
     "traceback": [
      "LoadError: stored type Multilane.NoCrashStat does not match currently loaded type\nwhile loading In[16], in expression starting on line 1",
      "",
      " in jldatatype at /home/zach/.julia/JLD/src/jld_types.jl:699",
      " in read at /home/zach/.julia/JLD/src/JLD.jl:381",
      " in read_ref at /home/zach/.julia/JLD/src/JLD.jl:509",
      " in read_refs at /home/zach/.julia/JLD/src/JLD.jl:482",
      " in read_array at /home/zach/.julia/JLD/src/JLD.jl:418",
      " in read at /home/zach/.julia/JLD/src/JLD.jl:383",
      " in read_ref at /home/zach/.julia/JLD/src/JLD.jl:509",
      " [inlined code] from /home/zach/.julia/JLD/src/jld_types.jl:430",
      " in jlconvert at /home/zach/.julia/JLD/src/jld_types.jl:439",
      " in read_scalar at /home/zach/.julia/JLD/src/JLD.jl:409",
      " in read at /home/zach/.julia/JLD/src/JLD.jl:381",
      " in read at /home/zach/.julia/JLD/src/JLD.jl:357",
      " in anonymous at /home/zach/.julia/JLD/src/JLD.jl:1212",
      " in jldopen at /home/zach/.julia/JLD/src/JLD.jl:256",
      " in load at /home/zach/.julia/JLD/src/JLD.jl:1211",
      " in load at /home/zach/.julia/FileIO/src/loadsave.jl:42"
     ]
    }
   ],
   "source": [
    "d = load(\"results.jld\")"
   ]
  },
  {
   "cell_type": "code",
   "execution_count": 14,
   "metadata": {
    "collapsed": false
   },
   "outputs": [
    {
     "data": {
      "text/plain": [
       "ste (generic function with 1 method)"
      ]
     },
     "execution_count": 14,
     "metadata": {},
     "output_type": "execute_result"
    }
   ],
   "source": [
    "import Base: mean, std\n",
    "function mean(ncs::NoCrashStats)\n",
    "  t = Real[stat.t_in_goal for stat in ncs.stats]\n",
    "  b = Real[stat.nb_induced_brakes for stat in ncs.stats]\n",
    "  r = Real[stat.reward for stat in ncs.stats]\n",
    "  return mean(t), mean(b), mean(r)\n",
    "end\n",
    "\n",
    "function std(ncs::NoCrashStats)\n",
    "  t = Real[stat.t_in_goal for stat in ncs.stats]\n",
    "  b = Real[stat.nb_induced_brakes for stat in ncs.stats]\n",
    "  r = Real[stat.reward for stat in ncs.stats]\n",
    "  return std(t), std(b), std(r)\n",
    "end\n",
    "\n",
    "function ste(ncs::NoCrashStats)\n",
    "  t,b,r = std(ncs)\n",
    "  return t/sqrt(length(ncs)), b/sqrt(length(ncs)), r/sqrt(length(ncs))\n",
    "end"
   ]
  },
  {
   "cell_type": "code",
   "execution_count": 5,
   "metadata": {
    "collapsed": false
   },
   "outputs": [
    {
     "data": {
      "text/plain": [
       "10-element Array{ByteString,1}:\n",
       " \"single_dpw1\" \n",
       " \"single_dpw2\" \n",
       " \"single_dpw3\" \n",
       " \"single_dpw4\" \n",
       " \"single_dpw5\" \n",
       " \"single_dpw6\" \n",
       " \"single_dpw7\" \n",
       " \"single_dpw8\" \n",
       " \"single_dpw9\" \n",
       " \"single_dpw10\""
      ]
     },
     "execution_count": 5,
     "metadata": {},
     "output_type": "execute_result"
    }
   ],
   "source": [
    "dpw = [string(\"dpw\",k) for k in 1:10]\n",
    "single_dpw = [string(\"single_dpw\",k) for k in 1:10]"
   ]
  },
  {
   "cell_type": "code",
   "execution_count": 6,
   "metadata": {
    "collapsed": true
   },
   "outputs": [],
   "source": [
    "using PyPlot"
   ]
  },
  {
   "cell_type": "code",
   "execution_count": 7,
   "metadata": {
    "collapsed": false
   },
   "outputs": [
    {
     "ename": "LoadError",
     "evalue": "LoadError: UndefVarError: d not defined\nwhile loading In[7], in expression starting on line 1",
     "output_type": "error",
     "traceback": [
      "LoadError: UndefVarError: d not defined\nwhile loading In[7], in expression starting on line 1",
      ""
     ]
    }
   ],
   "source": [
    "random = mean(d[\"random\"])"
   ]
  },
  {
   "cell_type": "code",
   "execution_count": 8,
   "metadata": {
    "collapsed": false
   },
   "outputs": [
    {
     "ename": "LoadError",
     "evalue": "LoadError: UndefVarError: d not defined\nwhile loading In[8], in expression starting on line 1",
     "output_type": "error",
     "traceback": [
      "LoadError: UndefVarError: d not defined\nwhile loading In[8], in expression starting on line 1",
      ""
     ]
    }
   ],
   "source": [
    "heur = mean(d[\"simple_heuristic\"])\n",
    "dpw = [mean(d[s]) for s in dpw]\n",
    "single_dpw = [mean(d[s]) for s in single_dpw]"
   ]
  },
  {
   "cell_type": "code",
   "execution_count": 9,
   "metadata": {
    "collapsed": false
   },
   "outputs": [
    {
     "data": {
      "text/plain": [
       "10-element Array{Float64,1}:\n",
       "  0.3    \n",
       " 12.6667 \n",
       "  9.0    \n",
       " 11.9    \n",
       "  9.7333 \n",
       "  2.54   \n",
       "  9.80999\n",
       "  5.0066 \n",
       " 10.5    \n",
       "  5.801  "
      ]
     },
     "execution_count": 9,
     "metadata": {},
     "output_type": "execute_result"
    }
   ],
   "source": [
    "dpw_x = [x[1] for x in dpw]\n",
    "dpy_y = [x[2] for x in dpw]\n",
    "single_dpw_x = [x[1] for x in single_dpw]\n",
    "single_dpw_y = [x[2] for x in single_dpw]\n",
    "pomcp_dpw_x = [0,7,16.5,7.6,9.1,8.1,1.2,0.1,0.3,0.6]\n",
    "pomcp_dpw_y = [0.3,6.933, 8.8,11, 8.133, 7.62, 5.21, 6.2033, 4.204, 6.501]\n",
    "pomcp_dpw_x_2 = [0, 11.3, 9.6, 7.1, 1.1, 0.8, 7.3, 3.1, 0.8, 0.1]\n",
    "pomcp_dpw_y_2 = [0.3, 12.6667, 9, 11.9, 9.7333, 2.54, 9.80999,5.0066, 10.5, 5.801]"
   ]
  },
  {
   "cell_type": "code",
   "execution_count": 11,
   "metadata": {
    "collapsed": false
   },
   "outputs": [
    {
     "ename": "LoadError",
     "evalue": "LoadError: PyError (:PyObject_Call) <type 'exceptions.TypeError'>\nTypeError('float() argument must be a string or a number',)\n  File \"/usr/local/lib/python2.7/dist-packages/matplotlib/pyplot.py\", line 2987, in plot\n    ret = ax.plot(*args, **kwargs)\n  File \"/usr/local/lib/python2.7/dist-packages/matplotlib/axes.py\", line 4138, in plot\n    self.add_line(line)\n  File \"/usr/local/lib/python2.7/dist-packages/matplotlib/axes.py\", line 1497, in add_line\n    self._update_line_limits(line)\n  File \"/usr/local/lib/python2.7/dist-packages/matplotlib/axes.py\", line 1508, in _update_line_limits\n    path = line.get_path()\n  File \"/usr/local/lib/python2.7/dist-packages/matplotlib/lines.py\", line 743, in get_path\n    self.recache()\n  File \"/usr/local/lib/python2.7/dist-packages/matplotlib/lines.py\", line 420, in recache\n    x = np.asarray(xconv, np.float_)\n  File \"/usr/local/lib/python2.7/dist-packages/numpy/core/numeric.py\", line 460, in asarray\n    return array(a, dtype, copy=False, order=order)\n\nwhile loading In[11], in expression starting on line 1",
     "output_type": "error",
     "traceback": [
      "LoadError: PyError (:PyObject_Call) <type 'exceptions.TypeError'>\nTypeError('float() argument must be a string or a number',)\n  File \"/usr/local/lib/python2.7/dist-packages/matplotlib/pyplot.py\", line 2987, in plot\n    ret = ax.plot(*args, **kwargs)\n  File \"/usr/local/lib/python2.7/dist-packages/matplotlib/axes.py\", line 4138, in plot\n    self.add_line(line)\n  File \"/usr/local/lib/python2.7/dist-packages/matplotlib/axes.py\", line 1497, in add_line\n    self._update_line_limits(line)\n  File \"/usr/local/lib/python2.7/dist-packages/matplotlib/axes.py\", line 1508, in _update_line_limits\n    path = line.get_path()\n  File \"/usr/local/lib/python2.7/dist-packages/matplotlib/lines.py\", line 743, in get_path\n    self.recache()\n  File \"/usr/local/lib/python2.7/dist-packages/matplotlib/lines.py\", line 420, in recache\n    x = np.asarray(xconv, np.float_)\n  File \"/usr/local/lib/python2.7/dist-packages/numpy/core/numeric.py\", line 460, in asarray\n    return array(a, dtype, copy=False, order=order)\n\nwhile loading In[11], in expression starting on line 1",
      "",
      " [inlined code] from /home/zach/.julia/PyCall/src/exception.jl:81",
      " in pycall at /home/zach/.julia/PyCall/src/PyCall.jl:463",
      " in plot at /home/zach/.julia/PyPlot/src/PyPlot.jl:460"
     ]
    }
   ],
   "source": [
    "plot(dpw_x,dpy_y)\n",
    "plot(single_dpw_x,single_dpw_y)\n",
    "plot(random[1],random[2],\"x\")\n",
    "plot(heur[1],heur[2],\"x\")\n",
    "plot(pomcp_dpw_x,pomcp_dpw_y)\n",
    "#plot(pomcp_dpw_x_2,pomcp_dpw_y_2)\n",
    "#legend([\"DPW\",\"Single DPW\", \"random\", \"heur\"],\"upper left\")\n",
    "legend([\"DPW\",\"Single DPW\", \"random\", \"heur\",\"pomcp\",\"pomcp2\"],loc=\"upper left\")\n",
    "xlabel(\"time in desired lane\")\n",
    "ylabel(\"nb dangerous brakes\")"
   ]
  },
  {
   "cell_type": "code",
   "execution_count": 11,
   "metadata": {
    "collapsed": false
   },
   "outputs": [
    {
     "data": {
      "text/plain": [
       "10"
      ]
     },
     "execution_count": 11,
     "metadata": {},
     "output_type": "execute_result"
    }
   ],
   "source": [
    "length(pomcp_dpw_y)"
   ]
  },
  {
   "cell_type": "code",
   "execution_count": null,
   "metadata": {
    "collapsed": true
   },
   "outputs": [],
   "source": []
  }
 ],
 "metadata": {
  "kernelspec": {
   "display_name": "Julia 0.4.5",
   "language": "julia",
   "name": "julia-0.4"
  },
  "language_info": {
   "file_extension": ".jl",
   "mimetype": "application/julia",
   "name": "julia",
   "version": "0.4.5"
  }
 },
 "nbformat": 4,
 "nbformat_minor": 0
}
