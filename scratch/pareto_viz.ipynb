{
 "cells": [
  {
   "cell_type": "code",
   "execution_count": 1,
   "metadata": {
    "collapsed": false
   },
   "outputs": [
    {
     "data": {
      "text/html": [
       "<script charset=\"utf-8\">(function ($, undefined) {\n",
       "\n",
       "    function createElem(tag, attr, content) {\n",
       "\t// TODO: remove jQuery dependency\n",
       "\tvar el = $(\"<\" + tag + \"/>\").attr(attr);\n",
       "\tif (content) {\n",
       "\t    el.append(content);\n",
       "\t}\n",
       "\treturn el[0];\n",
       "    }\n",
       "\n",
       "    // A widget must expose an id field which identifies it to the backend,\n",
       "    // an elem attribute which is will be added to the DOM, and\n",
       "    // a getState() method which returns the value to be sent to the backend\n",
       "    // a sendUpdate() method which sends its current value to the backend\n",
       "    var Widget = {\n",
       "\tid: undefined,\n",
       "\telem: undefined,\n",
       "\tlabel: undefined,\n",
       "\tgetState: function () {\n",
       "\t    return this.elem.value;\n",
       "\t},\n",
       "\tsendUpdate: undefined\n",
       "    };\n",
       "\n",
       "    var Slider = function (typ, id, init) {\n",
       "\tvar attr = { type:  \"range\",\n",
       "\t\t     value: init.value,\n",
       "\t\t     min:   init.min,\n",
       "\t\t     max:   init.max,\n",
       "\t\t     step:  init.step },\n",
       "\t    elem = createElem(\"input\", attr),\n",
       "\t    self = this;\n",
       "\n",
       "\telem.onchange = function () {\n",
       "\t    self.sendUpdate();\n",
       "\t}\n",
       "\n",
       "\tthis.id = id;\n",
       "\tthis.elem = elem;\n",
       "\tthis.label = init.label;\n",
       "\n",
       "\tInputWidgets.commInitializer(this); // Initialize communication\n",
       "    }\n",
       "    Slider.prototype = Widget;\n",
       "\n",
       "    var Checkbox = function (typ, id, init) {\n",
       "\tvar attr = { type: \"checkbox\",\n",
       "\t\t     checked: init.value },\n",
       "\t    elem = createElem(\"input\", attr),\n",
       "\t    self = this;\n",
       "\n",
       "\tthis.getState = function () {\n",
       "\t    return elem.checked;\n",
       "\t}\n",
       "\telem.onchange = function () {\n",
       "\t    self.sendUpdate();\n",
       "\t}\n",
       "\n",
       "\tthis.id = id;\n",
       "\tthis.elem = elem;\n",
       "\tthis.label = init.label;\n",
       "\n",
       "\tInputWidgets.commInitializer(this);\n",
       "    }\n",
       "    Checkbox.prototype = Widget;\n",
       "\n",
       "    var Button = function (typ, id, init) {\n",
       "\tvar attr = { type:    \"button\",\n",
       "\t\t     value:   init.label },\n",
       "\t    elem = createElem(\"input\", attr),\n",
       "\t    self = this;\n",
       "\tthis.getState = function () {\n",
       "\t    return null;\n",
       "\t}\n",
       "\telem.onclick = function () {\n",
       "\t    self.sendUpdate();\n",
       "\t}\n",
       "\n",
       "\tthis.id = id;\n",
       "\tthis.elem = elem;\n",
       "\tthis.label = init.label;\n",
       "\n",
       "\tInputWidgets.commInitializer(this);\n",
       "    }\n",
       "    Button.prototype = Widget;\n",
       "\n",
       "    var Text = function (typ, id, init) {\n",
       "\tvar attr = { type:  \"text\",\n",
       "\t\t     placeholder: init.label,\n",
       "\t\t     value: init.value },\n",
       "\t    elem = createElem(\"input\", attr),\n",
       "\t    self = this;\n",
       "\tthis.getState = function () {\n",
       "\t    return elem.value;\n",
       "\t}\n",
       "\telem.onkeyup = function () {\n",
       "\t    self.sendUpdate();\n",
       "\t}\n",
       "\n",
       "\tthis.id = id;\n",
       "\tthis.elem = elem;\n",
       "\tthis.label = init.label;\n",
       "\n",
       "\tInputWidgets.commInitializer(this);\n",
       "    }\n",
       "    Text.prototype = Widget;\n",
       "\n",
       "    var Textarea = function (typ, id, init) {\n",
       "\tvar attr = { placeholder: init.label },\n",
       "\t    elem = createElem(\"textarea\", attr, init.value),\n",
       "\t    self = this;\n",
       "\tthis.getState = function () {\n",
       "\t    return elem.value;\n",
       "\t}\n",
       "\telem.onchange = function () {\n",
       "\t    self.sendUpdate();\n",
       "\t}\n",
       "\n",
       "\tthis.id = id;\n",
       "\tthis.elem = elem;\n",
       "\tthis.label = init.label;\n",
       "\n",
       "\tInputWidgets.commInitializer(this);\n",
       "    }\n",
       "    Textarea.prototype = Widget;\n",
       "\n",
       "    // RadioButtons\n",
       "    // Dropdown\n",
       "    // HTML\n",
       "    // Latex\n",
       "\n",
       "    var InputWidgets = {\n",
       "\tSlider: Slider,\n",
       "\tCheckbox: Checkbox,\n",
       "\tButton: Button,\n",
       "\tText: Text,\n",
       "\tTextarea: Textarea,\n",
       "\tdebug: false,\n",
       "\tlog: function () {\n",
       "\t    if (InputWidgets.debug) {\n",
       "\t\tconsole.log.apply(console, arguments);\n",
       "\t    }\n",
       "\t},\n",
       "\t// a central way to initalize communication\n",
       "\t// for widgets.\n",
       "\tcommInitializer: function (widget) {\n",
       "\t    widget.sendUpdate = function () {};\n",
       "\t}\n",
       "    };\n",
       "\n",
       "    window.InputWidgets = InputWidgets;\n",
       "\n",
       "})(jQuery, undefined);\n",
       "</script>"
      ]
     },
     "metadata": {},
     "output_type": "display_data"
    },
    {
     "data": {
      "text/html": [
       "<div id=\"interact-js-shim\">\n",
       "    <script charset=\"utf-8\">\n",
       "(function (IPython, $, _, MathJax, Widgets) {\n",
       "    $.event.special.destroyed = {\n",
       "\tremove: function(o) {\n",
       "\t    if (o.handler) {\n",
       "\t\to.handler.apply(this, arguments)\n",
       "\t    }\n",
       "\t}\n",
       "    }\n",
       "\n",
       "    var OutputArea = IPython.version >= \"4.0.0\" ? require(\"notebook/js/outputarea\").OutputArea : IPython.OutputArea;\n",
       "\n",
       "    var redrawValue = function (container, type, val) {\n",
       "\tvar selector = $(\"<div/>\");\n",
       "\tvar oa = new OutputArea(_.extend(selector, {\n",
       "\t    selector: selector,\n",
       "\t    prompt_area: true,\n",
       "\t    events: IPython.events,\n",
       "\t    keyboard_manager: IPython.keyboard_manager\n",
       "\t})); // Hack to work with IPython 2.1.0\n",
       "\n",
       "\tswitch (type) {\n",
       "\tcase \"image/png\":\n",
       "            var _src = 'data:' + type + ';base64,' + val;\n",
       "\t    $(container).find(\"img\").attr('src', _src);\n",
       "\t    break;\n",
       "\tdefault:\n",
       "\t    var toinsert = OutputArea.append_map[type].apply(\n",
       "\t\toa, [val, {}, selector]\n",
       "\t    );\n",
       "\t    $(container).empty().append(toinsert.contents());\n",
       "\t    selector.remove();\n",
       "\t}\n",
       "\tif (type === \"text/latex\" && MathJax) {\n",
       "\t    MathJax.Hub.Queue([\"Typeset\", MathJax.Hub, toinsert.get(0)]);\n",
       "\t}\n",
       "    }\n",
       "\n",
       "\n",
       "    $(document).ready(function() {\n",
       "\tWidgets.debug = false; // log messages etc in console.\n",
       "\tfunction initComm(evt, data) {\n",
       "\t    var comm_manager = data.kernel.comm_manager;\n",
       "        //_.extend(comm_manager.targets, require(\"widgets/js/widget\"))\n",
       "\t    comm_manager.register_target(\"Signal\", function (comm) {\n",
       "            comm.on_msg(function (msg) {\n",
       "                //Widgets.log(\"message received\", msg);\n",
       "                var val = msg.content.data.value;\n",
       "                $(\".signal-\" + comm.comm_id).each(function() {\n",
       "                var type = $(this).data(\"type\");\n",
       "                if (val[type]) {\n",
       "                    redrawValue(this, type, val[type], type);\n",
       "                }\n",
       "                });\n",
       "                delete val;\n",
       "                delete msg.content.data.value;\n",
       "            });\n",
       "\t    });\n",
       "\n",
       "\t    // coordingate with Comm and redraw Signals\n",
       "\t    // XXX: Test using Reactive here to improve performance\n",
       "\t    $([IPython.events]).on(\n",
       "\t\t'output_appended.OutputArea', function (event, type, value, md, toinsert) {\n",
       "\t\t    if (md && md.reactive) {\n",
       "                // console.log(md.comm_id);\n",
       "                toinsert.addClass(\"signal-\" + md.comm_id);\n",
       "                toinsert.data(\"type\", type);\n",
       "                // Signal back indicating the mimetype required\n",
       "                var comm_manager = IPython.notebook.kernel.comm_manager;\n",
       "                var comm = comm_manager.comms[md.comm_id];\n",
       "                comm.then(function (c) {\n",
       "                    c.send({action: \"subscribe_mime\",\n",
       "                       mime: type});\n",
       "                    toinsert.bind(\"destroyed\", function() {\n",
       "                        c.send({action: \"unsubscribe_mime\",\n",
       "                               mime: type});\n",
       "                    });\n",
       "                })\n",
       "\t\t    }\n",
       "\t    });\n",
       "\t}\n",
       "\n",
       "\ttry {\n",
       "\t    // try to initialize right away. otherwise, wait on the status_started event.\n",
       "\t    initComm(undefined, IPython.notebook);\n",
       "\t} catch (e) {\n",
       "\t    $([IPython.events]).on('kernel_created.Kernel kernel_created.Session', initComm);\n",
       "\t}\n",
       "    });\n",
       "})(IPython, jQuery, _, MathJax, InputWidgets);\n",
       "</script>\n",
       "    <script>\n",
       "        window.interactLoadedFlag = true\n",
       "       $(\"#interact-js-shim\").bind(\"destroyed\", function () {\n",
       "           if (window.interactLoadedFlag) {\n",
       "               console.warn(\"JavaScript required by Interact will be removed if you remove this cell or run using Interact more than once.\")\n",
       "           }\n",
       "       })\n",
       "       $([IPython.events]).on(\"kernel_starting.Kernel kernel_restarting.Kernel\", function () { window.interactLoadedFlag = false })\n",
       "   </script>\n",
       "</div>"
      ]
     },
     "metadata": {},
     "output_type": "display_data"
    },
    {
     "name": "stderr",
     "output_type": "stream",
     "text": [
      "INFO: Recompiling stale cache file /home/chris/.julia/lib/v0.4/Conda.ji for module Conda.\n",
      "INFO: Recompiling stale cache file /home/chris/.julia/lib/v0.4/PyCall.ji for module PyCall.\n",
      "INFO: Recompiling stale cache file /home/chris/.julia/lib/v0.4/PyPlot.ji for module PyPlot.\n",
      "WARNING: using POMDPToolbox.product in module Multilane conflicts with an existing identifier.\n"
     ]
    }
   ],
   "source": [
    "using JLD\n",
    "push!(LOAD_PATH,joinpath(\"..\",\"src\"))\n",
    "using Multilane"
   ]
  },
  {
   "cell_type": "code",
   "execution_count": 2,
   "metadata": {
    "collapsed": false
   },
   "outputs": [
    {
     "data": {
      "text/plain": [
       "Dict{ByteString,Any} with 22 entries:\n",
       "  \"dpw9\"             => Multilane.NoCrashStats([Multilane.NoCrashStat(1,2.02,-1…\n",
       "  \"single_dpw7\"      => Multilane.NoCrashStats([Multilane.NoCrashStat(96,1.1,85…\n",
       "  \"dpw4\"             => Multilane.NoCrashStats([Multilane.NoCrashStat(97,21.0,7…\n",
       "  \"single_dpw3\"      => Multilane.NoCrashStats([Multilane.NoCrashStat(92,21.0,8…\n",
       "  \"single_dpw2\"      => Multilane.NoCrashStats([Multilane.NoCrashStat(97,19.333…\n",
       "  \"single_dpw8\"      => Multilane.NoCrashStats([Multilane.NoCrashStat(57,7.0,-1…\n",
       "  \"dpw7\"             => Multilane.NoCrashStats([Multilane.NoCrashStat(77,7.1,60…\n",
       "  \"dpw1\"             => Multilane.NoCrashStats([Multilane.NoCrashStat(98,12.0,9…\n",
       "  \"single_dpw10\"     => Multilane.NoCrashStats([Multilane.NoCrashStat(93,11.01,…\n",
       "  \"simple_heuristic\" => Multilane.NoCrashStats([Multilane.NoCrashStat(95,25.0,9…\n",
       "  \"single_dpw5\"      => Multilane.NoCrashStats([Multilane.NoCrashStat(97,3.3333…\n",
       "  \"single_dpw6\"      => Multilane.NoCrashStats([Multilane.NoCrashStat(96,5.2,70…\n",
       "  \"single_dpw4\"      => Multilane.NoCrashStats([Multilane.NoCrashStat(97,19.0,7…\n",
       "  \"single_dpw9\"      => Multilane.NoCrashStats([Multilane.NoCrashStat(94,28.02,…\n",
       "  \"dpw3\"             => Multilane.NoCrashStats([Multilane.NoCrashStat(97,15.0,8…\n",
       "  \"dpw2\"             => Multilane.NoCrashStats([Multilane.NoCrashStat(98,15.333…\n",
       "  \"dpw6\"             => Multilane.NoCrashStats([Multilane.NoCrashStat(93,2.2,82…\n",
       "  \"dpw5\"             => Multilane.NoCrashStats([Multilane.NoCrashStat(94,4.3333…\n",
       "  \"random\"           => Multilane.NoCrashStats([Multilane.NoCrashStat(5,13.0,37…\n",
       "  \"dpw8\"             => Multilane.NoCrashStats([Multilane.NoCrashStat(43,-0.0,4…\n",
       "  \"dpw10\"            => Multilane.NoCrashStats([Multilane.NoCrashStat(7,3.0,-29…\n",
       "  \"single_dpw1\"      => Multilane.NoCrashStats([Multilane.NoCrashStat(96,22.0,9…"
      ]
     },
     "execution_count": 2,
     "metadata": {},
     "output_type": "execute_result"
    }
   ],
   "source": [
    "d = load(\"results.jld\")"
   ]
  },
  {
   "cell_type": "code",
   "execution_count": 3,
   "metadata": {
    "collapsed": false
   },
   "outputs": [
    {
     "name": "stderr",
     "output_type": "stream",
     "text": [
      "WARNING: Method definition mean(Multilane.NoCrashStats) in module Multilane at /home/chris/Documents/Research/ToyotaMultilane2016/Multilane.jl/src/evaluation.jl:20 overwritten in module Main at In[3]:3.\n",
      "WARNING: Method definition std(Multilane.NoCrashStats) in module Multilane at /home/chris/Documents/Research/ToyotaMultilane2016/Multilane.jl/src/evaluation.jl:27 overwritten in module Main at In[3]:10.\n"
     ]
    },
    {
     "data": {
      "text/plain": [
       "ste (generic function with 1 method)"
      ]
     },
     "execution_count": 3,
     "metadata": {},
     "output_type": "execute_result"
    }
   ],
   "source": [
    "import Base: mean, std\n",
    "function mean(ncs::NoCrashStats)\n",
    "  t = Real[stat.t_in_goal for stat in ncs.stats]\n",
    "  b = Real[stat.nb_induced_brakes for stat in ncs.stats]\n",
    "  r = Real[stat.reward for stat in ncs.stats]\n",
    "  return mean(t), mean(b), mean(r)\n",
    "end\n",
    "\n",
    "function std(ncs::NoCrashStats)\n",
    "  t = Real[stat.t_in_goal for stat in ncs.stats]\n",
    "  b = Real[stat.nb_induced_brakes for stat in ncs.stats]\n",
    "  r = Real[stat.reward for stat in ncs.stats]\n",
    "  return std(t), std(b), std(r)\n",
    "end\n",
    "\n",
    "function ste(ncs::NoCrashStats)\n",
    "  t,b,r = std(ncs)\n",
    "  return t/sqrt(length(ncs)), b/sqrt(length(ncs)), r/sqrt(length(ncs))\n",
    "end"
   ]
  },
  {
   "cell_type": "code",
   "execution_count": 4,
   "metadata": {
    "collapsed": false
   },
   "outputs": [
    {
     "data": {
      "text/plain": [
       "10-element Array{ByteString,1}:\n",
       " \"single_dpw1\" \n",
       " \"single_dpw2\" \n",
       " \"single_dpw3\" \n",
       " \"single_dpw4\" \n",
       " \"single_dpw5\" \n",
       " \"single_dpw6\" \n",
       " \"single_dpw7\" \n",
       " \"single_dpw8\" \n",
       " \"single_dpw9\" \n",
       " \"single_dpw10\""
      ]
     },
     "execution_count": 4,
     "metadata": {},
     "output_type": "execute_result"
    }
   ],
   "source": [
    "dpw = [string(\"dpw\",k) for k in 1:10]\n",
    "single_dpw = [string(\"single_dpw\",k) for k in 1:10]"
   ]
  },
  {
   "cell_type": "code",
   "execution_count": 5,
   "metadata": {
    "collapsed": true
   },
   "outputs": [],
   "source": [
    "using PyPlot"
   ]
  },
  {
   "cell_type": "code",
   "execution_count": 6,
   "metadata": {
    "collapsed": false
   },
   "outputs": [
    {
     "data": {
      "text/plain": [
       "(16.61,15.05,151.05)"
      ]
     },
     "execution_count": 6,
     "metadata": {},
     "output_type": "execute_result"
    }
   ],
   "source": [
    "random = mean(d[\"random\"])"
   ]
  },
  {
   "cell_type": "code",
   "execution_count": 7,
   "metadata": {
    "collapsed": false
   },
   "outputs": [
    {
     "data": {
      "text/plain": [
       "10-element Array{Any,1}:\n",
       " (85.19,26.12,825.78)              \n",
       " (84.31,20.373333333333306,781.98) \n",
       " (85.72,17.46,769.9)               \n",
       " (83.4,16.01,673.9)                \n",
       " (80.66,13.249999999999993,409.1)  \n",
       " (74.3,13.178000000000019,84.1)    \n",
       " (65.83,11.680000000000001,-509.7) \n",
       " (62.1,11.21966666666666,-2744.9)  \n",
       " (58.65,10.520999999999992,-4674.0)\n",
       " (56.62,10.354899999999995,-9788.7)"
      ]
     },
     "execution_count": 7,
     "metadata": {},
     "output_type": "execute_result"
    }
   ],
   "source": [
    "heur = mean(d[\"simple_heuristic\"])\n",
    "dpw = [mean(d[s]) for s in dpw]\n",
    "single_dpw = [mean(d[s]) for s in single_dpw]"
   ]
  },
  {
   "cell_type": "code",
   "execution_count": 8,
   "metadata": {
    "collapsed": false
   },
   "outputs": [
    {
     "data": {
      "text/plain": [
       "10-element Array{Float64,1}:\n",
       "  0.3    \n",
       " 12.6667 \n",
       "  9.0    \n",
       " 11.9    \n",
       "  9.7333 \n",
       "  2.54   \n",
       "  9.80999\n",
       "  5.0066 \n",
       " 10.5    \n",
       "  5.801  "
      ]
     },
     "execution_count": 8,
     "metadata": {},
     "output_type": "execute_result"
    }
   ],
   "source": [
    "dpw_x = [x[1] for x in dpw]\n",
    "dpy_y = [x[2] for x in dpw]\n",
    "single_dpw_x = [x[1] for x in single_dpw]\n",
    "single_dpw_y = [x[2] for x in single_dpw]\n",
    "pomcp_dpw_x = [0,7,16.5,7.6,9.1,8.1,1.2,0.1,0.3,0.6]\n",
    "pomcp_dpw_y = [0.3,6.933, 8.8,11, 8.133, 7.62, 5.21, 6.2033, 4.204, 6.501]\n",
    "pomcp_dpw_x_2 = [0, 11.3, 9.6, 7.1, 1.1, 0.8, 7.3, 3.1, 0.8, 0.1]\n",
    "pomcp_dpw_y_2 = [0.3, 12.6667, 9, 11.9, 9.7333, 2.54, 9.80999,5.0066, 10.5, 5.801]"
   ]
  },
  {
   "cell_type": "code",
   "execution_count": 9,
   "metadata": {
    "collapsed": false
   },
   "outputs": [
    {
     "data": {
      "image/png": "[encoded data removed]",
      "text/plain": [
       "PyPlot.Figure(PyObject <matplotlib.figure.Figure object at 0x7f40400f0b90>)"
      ]
     },
     "metadata": {},
     "output_type": "display_data"
    },
    {
     "data": {
      "text/plain": [
       "PyObject <matplotlib.text.Text object at 0x7f404002acd0>"
      ]
     },
     "execution_count": 9,
     "metadata": {},
     "output_type": "execute_result"
    }
   ],
   "source": [
    "plot(dpw_x,dpy_y)\n",
    "plot(single_dpw_x,single_dpw_y)\n",
    "plot(random[1],random[2],\"x\")\n",
    "plot(heur[1],heur[2],\"x\")\n",
    "plot(pomcp_dpw_x,pomcp_dpw_y)\n",
    "plot(pomcp_dpw_x_2,pomcp_dpw_y_2)\n",
    "#legend([\"DPW\",\"Single DPW\", \"random\", \"heur\"],\"upper left\")\n",
    "legend([\"DPW\",\"Single DPW\", \"random\", \"heur\",\"pomcp\",\"pomcp2\"],loc=\"upper left\")\n",
    "xlabel(\"time in desired lane\")\n",
    "ylabel(\"nb dangerous brakes\")"
   ]
  },
  {
   "cell_type": "code",
   "execution_count": 11,
   "metadata": {
    "collapsed": false
   },
   "outputs": [
    {
     "data": {
      "text/plain": [
       "10"
      ]
     },
     "execution_count": 11,
     "metadata": {},
     "output_type": "execute_result"
    }
   ],
   "source": [
    "length(pomcp_dpw_y)"
   ]
  },
  {
   "cell_type": "code",
   "execution_count": null,
   "metadata": {
    "collapsed": true
   },
   "outputs": [],
   "source": []
  }
 ],
 "metadata": {
  "kernelspec": {
   "display_name": "Julia 0.4.5",
   "language": "julia",
   "name": "julia-0.4"
  },
  "language_info": {
   "file_extension": ".jl",
   "mimetype": "application/julia",
   "name": "julia",
   "version": "0.4.5"
  }
 },
 "nbformat": 4,
 "nbformat_minor": 0
}
