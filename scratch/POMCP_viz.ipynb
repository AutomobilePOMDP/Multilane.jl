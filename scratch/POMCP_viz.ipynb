{
 "cells": [
  {
   "cell_type": "code",
   "execution_count": null,
   "metadata": {
    "collapsed": false
   },
   "outputs": [],
   "source": [
    "push!(LOAD_PATH,joinpath(\"..\",\"src\"))\n",
    "push!(LOAD_PATH,joinpath(\"..\",\"..\",\"..\",\"POMCP.jl\",\"src\"))\n",
    "using Multilane\n",
    "using POMCP\n",
    "using POMDPToolbox\n",
    "using GenerativeModels\n",
    "using MCTS\n",
    "using JLD"
   ]
  },
  {
   "cell_type": "code",
   "execution_count": null,
   "metadata": {
    "collapsed": false
   },
   "outputs": [],
   "source": [
    "nb_lanes = 4\n",
    "pp = PhysicalParam(nb_lanes,lane_length=100.) #2.=>col_length=8\\n\",\n",
    "_discount = 1.\n",
    "nb_cars=10\n",
    "dmodel = NoCrashIDMMOBILModel(nb_cars, pp)\n",
    "\n",
    "N = 10\n",
    "\n",
    "POMCP.node_tag(a::MLAction) = string(\"(\",a.acc,\",\", a.lane_change, \")\")\n",
    "POMCP.tooltip_tag(::MLAction) = \"\"\n",
    "\n",
    "POMCP.node_tag(::Any) = \"\"\n",
    "POMCP.tooltip_tag(::Any) = \"\"\n",
    "\n",
    "models = JLD.load(\"rmodels.jld\")\n",
    "rmodels = models[\"rmodels\"]"
   ]
  },
  {
   "cell_type": "code",
   "execution_count": null,
   "metadata": {
    "collapsed": false,
    "scrolled": true
   },
   "outputs": [],
   "source": [
    "rmodel = rmodels[1]\n",
    "\n",
    "pomdp = NoCrashPOMDP(dmodel, rmodel, _discount)\n",
    "\n",
    "bu = ParticleUpdater(100, pomdp, MersenneTwister(555))\n",
    "\n",
    "rng = MersenneTwister(12345) # w/ seed=1, get crash!\n",
    "\n",
    "solver = POMCPDPWSolver(eps=0.01,\n",
    "                     c=3.0,\n",
    "                     tree_queries=100,\n",
    "                    alpha_observation=0.75, # 10 higher -> widens faster\n",
    "                    k_observation=0.3, # 0.5 higher -> widens faster\n",
    "                    alpha_action=5., #10\n",
    "                    k_action=0.5) #0.5\n",
    "\n",
    "policy = POMDPs.solve(solver, pomdp)\n",
    "state = rng.seed\n",
    "s = initial_state(pomdp, rng)\n",
    "_b = create_belief(bu,s)\n",
    "q = rand(rng,_b)\n",
    "\n",
    "b = RootNode(0, _b, Dict{Any,POMCP.ActNode}())\n",
    "\n",
    "a = action(policy, b)\n",
    "\n",
    "visualize(pomdp, s, a, s)\n",
    "\n",
    "POMCPTreeVisualizer(b)"
   ]
  },
  {
   "cell_type": "code",
   "execution_count": null,
   "metadata": {
    "collapsed": false
   },
   "outputs": [],
   "source": [
    "rmodel = rmodels[2]\n",
    "\n",
    "pomdp = NoCrashPOMDP(dmodel, rmodel, _discount)\n",
    "\n",
    "bu = ParticleUpdater(100, pomdp, MersenneTwister(555))\n",
    "\n",
    "rng = MersenneTwister(12345) # w/ seed=1, get crash!\n",
    "\n",
    "solver = POMCPDPWSolver(eps=0.01,\n",
    "                     c=5.0,\n",
    "                     tree_queries=100,\n",
    "                    alpha_observation=0.75, # 10 higher -> widens faster\n",
    "                    k_observation=0.3, # 0.5 higher -> widens faster\n",
    "                    alpha_action=5., #10\n",
    "                    k_action=0.5) #0.5\n",
    "policy = POMDPs.solve(solver, pomdp)\n",
    "state = rng.seed\n",
    "s = initial_state(pomdp, rng)\n",
    "_b = create_belief(bu,s)\n",
    "q = rand(rng,_b)\n",
    "\n",
    "b = RootNode(0, _b, Dict{Any,POMCP.ActNode}())\n",
    "\n",
    "a = action(policy, b)\n",
    "\n",
    "visualize(pomdp, s, a, s)\n",
    "\n",
    "POMCPTreeVisualizer(b)"
   ]
  },
  {
   "cell_type": "code",
   "execution_count": null,
   "metadata": {
    "collapsed": false
   },
   "outputs": [],
   "source": [
    "rmodel = rmodels[3]\n",
    "\n",
    "pomdp = NoCrashPOMDP(dmodel, rmodel, _discount)\n",
    "\n",
    "bu = ParticleUpdater(100, pomdp, MersenneTwister(555))\n",
    "\n",
    "rng = MersenneTwister(12345) # w/ seed=1, get crash!\n",
    "\n",
    "solver = POMCPDPWSolver(eps=0.01,\n",
    "                     c=20.0,\n",
    "                     tree_queries=100,\n",
    "                    alpha_observation=0.75, # 10 higher -> widens faster\n",
    "                    k_observation=0.3, # 0.5 higher -> widens faster\n",
    "                    alpha_action=5., #10\n",
    "                    k_action=0.5) #0.5\n",
    "\n",
    "policy = POMDPs.solve(solver, pomdp)\n",
    "state = rng.seed\n",
    "s = initial_state(pomdp, rng)\n",
    "_b = create_belief(bu,s)\n",
    "q = rand(rng,_b)\n",
    "\n",
    "b = RootNode(0, _b, Dict{Any,POMCP.ActNode}())\n",
    "\n",
    "a = action(policy, b)\n",
    "\n",
    "visualize(pomdp, s, a, s)\n",
    "\n",
    "POMCPTreeVisualizer(b)"
   ]
  },
  {
   "cell_type": "code",
   "execution_count": null,
   "metadata": {
    "collapsed": false
   },
   "outputs": [],
   "source": [
    "rmodel = rmodels[4]\n",
    "\n",
    "pomdp = NoCrashPOMDP(dmodel, rmodel, _discount)\n",
    "\n",
    "bu = ParticleUpdater(100, pomdp, MersenneTwister(555))\n",
    "\n",
    "rng = MersenneTwister(12345) # w/ seed=1, get crash!\n",
    "\n",
    "solver = POMCPDPWSolver(eps=0.01,\n",
    "                     c=50.0,\n",
    "                     tree_queries=100,\n",
    "                    alpha_observation=0.75, # 10 higher -> widens faster\n",
    "                    k_observation=0.3, # 0.5 higher -> widens faster\n",
    "                    alpha_action=5., #10\n",
    "                    k_action=0.5) #0.5\n",
    "\n",
    "policy = POMDPs.solve(solver, pomdp)\n",
    "state = rng.seed\n",
    "s = initial_state(pomdp, rng)\n",
    "_b = create_belief(bu,s)\n",
    "q = rand(rng,_b)\n",
    "\n",
    "b = RootNode(0, _b, Dict{Any,POMCP.ActNode}())\n",
    "\n",
    "a = action(policy, b)\n",
    "\n",
    "visualize(pomdp, s, a, s)\n",
    "\n",
    "POMCPTreeVisualizer(b)"
   ]
  },
  {
   "cell_type": "code",
   "execution_count": null,
   "metadata": {
    "collapsed": false
   },
   "outputs": [],
   "source": [
    "rmodel = rmodels[5]\n",
    "\n",
    "pomdp = NoCrashPOMDP(dmodel, rmodel, _discount)\n",
    "\n",
    "bu = ParticleUpdater(100, pomdp, MersenneTwister(555))\n",
    "\n",
    "rng = MersenneTwister(12345) # w/ seed=1, get crash!\n",
    "\n",
    "solver = POMCPDPWSolver(eps=0.01,\n",
    "                     c=150.0,\n",
    "                     tree_queries=100,\n",
    "                    alpha_observation=0.75, # 10 higher -> widens faster\n",
    "                    k_observation=0.3, # 0.5 higher -> widens faster\n",
    "                    alpha_action=5., #10\n",
    "                    k_action=0.5) #0.5\n",
    "\n",
    "policy = POMDPs.solve(solver, pomdp)\n",
    "state = rng.seed\n",
    "s = initial_state(pomdp, rng)\n",
    "_b = create_belief(bu,s)\n",
    "q = rand(rng,_b)\n",
    "\n",
    "b = RootNode(0, _b, Dict{Any,POMCP.ActNode}())\n",
    "\n",
    "a = action(policy, b)\n",
    "\n",
    "visualize(pomdp, s, a, s)\n",
    "\n",
    "POMCPTreeVisualizer(b)"
   ]
  },
  {
   "cell_type": "code",
   "execution_count": null,
   "metadata": {
    "collapsed": false
   },
   "outputs": [],
   "source": [
    "rmodel = rmodels[6]\n",
    "\n",
    "pomdp = NoCrashPOMDP(dmodel, rmodel, _discount)\n",
    "\n",
    "bu = ParticleUpdater(100, pomdp, MersenneTwister(555))\n",
    "\n",
    "rng = MersenneTwister(12345) # w/ seed=1, get crash!\n",
    "\n",
    "solver = POMCPDPWSolver(eps=0.01,\n",
    "                     c=300.0,\n",
    "                     tree_queries=100,\n",
    "                    alpha_observation=0.75, # 10 higher -> widens faster\n",
    "                    k_observation=0.3, # 0.5 higher -> widens faster\n",
    "                    alpha_action=5., #10\n",
    "                    k_action=0.5) #0.5\n",
    "\n",
    "policy = POMDPs.solve(solver, pomdp)\n",
    "state = rng.seed\n",
    "s = initial_state(pomdp, rng)\n",
    "_b = create_belief(bu,s)\n",
    "q = rand(rng,_b)\n",
    "\n",
    "b = RootNode(0, _b, Dict{Any,POMCP.ActNode}())\n",
    "\n",
    "a = action(policy, b)\n",
    "\n",
    "visualize(pomdp, s, a, s)\n",
    "\n",
    "POMCPTreeVisualizer(b)"
   ]
  },
  {
   "cell_type": "code",
   "execution_count": null,
   "metadata": {
    "collapsed": false
   },
   "outputs": [],
   "source": [
    "rmodel = rmodels[7]\n",
    "\n",
    "pomdp = NoCrashPOMDP(dmodel, rmodel, _discount)\n",
    "\n",
    "bu = ParticleUpdater(100, pomdp, MersenneTwister(555))\n",
    "\n",
    "rng = MersenneTwister(12345) # w/ seed=1, get crash!\n",
    "\n",
    "solver = POMCPDPWSolver(eps=0.01,\n",
    "                     c=600.0,\n",
    "                     tree_queries=100,\n",
    "                    alpha_observation=0.75, # 10 higher -> widens faster\n",
    "                    k_observation=0.3, # 0.5 higher -> widens faster\n",
    "                    alpha_action=5., #10\n",
    "                    k_action=0.5) #0.5\n",
    "\n",
    "policy = POMDPs.solve(solver, pomdp)\n",
    "state = rng.seed\n",
    "s = initial_state(pomdp, rng)\n",
    "_b = create_belief(bu,s)\n",
    "q = rand(rng,_b)\n",
    "\n",
    "b = RootNode(0, _b, Dict{Any,POMCP.ActNode}())\n",
    "\n",
    "a = action(policy, b)\n",
    "\n",
    "visualize(pomdp, s, a, s)\n",
    "\n",
    "POMCPTreeVisualizer(b)"
   ]
  },
  {
   "cell_type": "code",
   "execution_count": null,
   "metadata": {
    "collapsed": false
   },
   "outputs": [],
   "source": [
    "rmodel = rmodels[8]\n",
    "\n",
    "pomdp = NoCrashPOMDP(dmodel, rmodel, _discount)\n",
    "\n",
    "bu = ParticleUpdater(100, pomdp, MersenneTwister(555))\n",
    "\n",
    "rng = MersenneTwister(12345) # w/ seed=1, get crash!\n",
    "\n",
    "solver = POMCPDPWSolver(eps=0.01,\n",
    "                     c=1500.0,\n",
    "                     tree_queries=100,\n",
    "                    alpha_observation=0.75, # 10 higher -> widens faster\n",
    "                    k_observation=0.3, # 0.5 higher -> widens faster\n",
    "                    alpha_action=5., #10\n",
    "                    k_action=0.5) #0.5\n",
    "\n",
    "policy = POMDPs.solve(solver, pomdp)\n",
    "state = rng.seed\n",
    "s = initial_state(pomdp, rng)\n",
    "_b = create_belief(bu,s)\n",
    "q = rand(rng,_b)\n",
    "\n",
    "b = RootNode(0, _b, Dict{Any,POMCP.ActNode}())\n",
    "\n",
    "a = action(policy, b)\n",
    "\n",
    "visualize(pomdp, s, a, s)\n",
    "\n",
    "POMCPTreeVisualizer(b)"
   ]
  },
  {
   "cell_type": "code",
   "execution_count": null,
   "metadata": {
    "collapsed": false
   },
   "outputs": [],
   "source": [
    "rmodel = rmodels[9]\n",
    "\n",
    "pomdp = NoCrashPOMDP(dmodel, rmodel, _discount)\n",
    "\n",
    "bu = ParticleUpdater(100, pomdp, MersenneTwister(555))\n",
    "\n",
    "rng = MersenneTwister(12345) # w/ seed=1, get crash!\n",
    "\n",
    "solver = POMCPDPWSolver(eps=0.01,\n",
    "                     c=3000.0,\n",
    "                     tree_queries=100,\n",
    "                    alpha_observation=0.75, # 10 higher -> widens faster\n",
    "                    k_observation=0.3, # 0.5 higher -> widens faster\n",
    "                    alpha_action=5., #10\n",
    "                    k_action=0.5) #0.5\n",
    "\n",
    "policy = POMDPs.solve(solver, pomdp)\n",
    "state = rng.seed\n",
    "s = initial_state(pomdp, rng)\n",
    "_b = create_belief(bu,s)\n",
    "q = rand(rng,_b)\n",
    "\n",
    "b = RootNode(0, _b, Dict{Any,POMCP.ActNode}())\n",
    "\n",
    "a = action(policy, b)\n",
    "\n",
    "visualize(pomdp, s, a, s)\n",
    "\n",
    "POMCPTreeVisualizer(b)"
   ]
  },
  {
   "cell_type": "code",
   "execution_count": null,
   "metadata": {
    "collapsed": false
   },
   "outputs": [],
   "source": [
    "rmodel = rmodels[10]\n",
    "\n",
    "pomdp = NoCrashPOMDP(dmodel, rmodel, _discount)\n",
    "\n",
    "bu = ParticleUpdater(100, pomdp, MersenneTwister(555))\n",
    "\n",
    "rng = MersenneTwister(12345) # w/ seed=1, get crash!\n",
    "\n",
    "solver = POMCPDPWSolver(eps=0.01,\n",
    "                     c=5000.0,\n",
    "                     tree_queries=100,\n",
    "                    alpha_observation=0.75, # 10 higher -> widens faster\n",
    "                    k_observation=0.3, # 0.5 higher -> widens faster\n",
    "                    alpha_action=5., #10\n",
    "                    k_action=0.5) #0.5\n",
    "\n",
    "policy = POMDPs.solve(solver, pomdp)\n",
    "state = rng.seed\n",
    "s = initial_state(pomdp, rng)\n",
    "_b = create_belief(bu,s)\n",
    "q = rand(rng,_b)\n",
    "\n",
    "b = RootNode(0, _b, Dict{Any,POMCP.ActNode}())\n",
    "\n",
    "a = action(policy, b)\n",
    "\n",
    "visualize(pomdp, s, a, s)\n",
    "\n",
    "POMCPTreeVisualizer(b)"
   ]
  },
  {
   "cell_type": "code",
   "execution_count": null,
   "metadata": {
    "collapsed": false
   },
   "outputs": [],
   "source": [
    "using ProfileView"
   ]
  },
  {
   "cell_type": "code",
   "execution_count": null,
   "metadata": {
    "collapsed": false
   },
   "outputs": [],
   "source": [
    "rmodel = rmodels[1]\n",
    "\n",
    "pomdp = NoCrashPOMDP(dmodel, rmodel, _discount)\n",
    "\n",
    "bu = ParticleUpdater(100, pomdp, MersenneTwister(555))\n",
    "\n",
    "rng = MersenneTwister(12345) # w/ seed=1, get crash!\n",
    "\n",
    "solver = POMCPDPWSolver(eps=0.01,\n",
    "                     c=3.0,\n",
    "                     tree_queries=100,\n",
    "                    alpha_observation=0.75, # 10 higher -> widens faster\n",
    "                    k_observation=0.3, # 0.5 higher -> widens faster\n",
    "                    alpha_action=5., #10\n",
    "                    k_action=0.5,\n",
    "rollout_solver=SimpleSolver()) #0.5\n",
    "\n",
    "policy = POMDPs.solve(solver, pomdp)\n",
    "state = rng.seed\n",
    "s = initial_state(pomdp, rng)\n",
    "_b = create_belief(bu,s)\n",
    "q = rand(rng,_b)\n",
    "\n",
    "b = RootNode(0, _b, Dict{Any,POMCP.ActNode}())"
   ]
  },
  {
   "cell_type": "code",
   "execution_count": null,
   "metadata": {
    "collapsed": false
   },
   "outputs": [],
   "source": [
    "function POMCP.extract_belief(::POMDPToolbox.FastPreviousObservationUpdater{MLObs}, node::RootNode)\n",
    "  rand(MersenneTwister(1),node.B)\n",
    "end\n",
    "\n",
    "POMCP.initialize_belief(u::FastPreviousObservationUpdater{MLObs}, o::Union{MLState,MLObs}) = o\n",
    "\n",
    "POMCP.create_belief(u::FastPreviousObservationUpdater{MLObs}) = nothing\n",
    "\n",
    "POMCP.extract_belief(::POMDPToolbox.FastPreviousObservationUpdater{MLObs}, node::BeliefNode) = node.label[2]\n",
    "\n",
    "\n",
    "policy = POMDPs.solve(solver, pomdp)\n",
    "a = action(policy, b)"
   ]
  },
  {
   "cell_type": "code",
   "execution_count": null,
   "metadata": {
    "collapsed": false
   },
   "outputs": [],
   "source": [
    "b = RootNode(0, _b, Dict{Any,POMCP.ActNode}())\n",
    "Profile.clear()\n",
    "@profile for i = 1:10000; action(policy2, s); end\n",
    "ProfileView.view()"
   ]
  },
  {
   "cell_type": "code",
   "execution_count": null,
   "metadata": {
    "collapsed": false
   },
   "outputs": [],
   "source": [
    "policy2 = solve(SimpleSolver(),pomdp)"
   ]
  },
  {
   "cell_type": "code",
   "execution_count": null,
   "metadata": {
    "collapsed": true
   },
   "outputs": [],
   "source": []
  }
 ],
 "metadata": {
  "kernelspec": {
   "display_name": "Julia 0.4.5",
   "language": "julia",
   "name": "julia-0.4"
  },
  "language_info": {
   "file_extension": ".jl",
   "mimetype": "application/julia",
   "name": "julia",
   "version": "0.4.5"
  }
 },
 "nbformat": 4,
 "nbformat_minor": 0
}
